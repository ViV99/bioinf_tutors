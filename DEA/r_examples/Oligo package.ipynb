{
 "cells": [
  {
   "cell_type": "code",
   "execution_count": 3,
   "metadata": {},
   "outputs": [
    {
     "name": "stderr",
     "output_type": "stream",
     "text": [
      "Bioconductor version 3.11 (BiocManager 1.30.10), R 4.0.2 (2020-06-22)\n",
      "\n",
      "Installing package(s) 'oligo'\n",
      "\n",
      "Updating HTML index of packages in '.Library'\n",
      "\n",
      "Making 'packages.html' ...\n",
      " done\n",
      "\n",
      "Old packages: 'bit', 'bit64', 'data.table', 'dplyr', 'ff', 'GOSemSim', 'httr',\n",
      "  'sys', 'tidyr'\n",
      "\n",
      "Bioconductor version 3.11 (BiocManager 1.30.10), R 4.0.2 (2020-06-22)\n",
      "\n",
      "Installing package(s) 'oligoData'\n",
      "\n",
      "Updating HTML index of packages in '.Library'\n",
      "\n",
      "Making 'packages.html' ...\n",
      " done\n",
      "\n",
      "Old packages: 'bit', 'bit64', 'data.table', 'dplyr', 'ff', 'GOSemSim', 'httr',\n",
      "  'sys', 'tidyr'\n",
      "\n"
     ]
    }
   ],
   "source": [
    "# Установка пакетов oligo, oligoData\n",
    "if (!requireNamespace(\"BiocManager\", quietly = TRUE))\n",
    "    install.packages(\"BiocManager\")\n",
    "\n",
    "BiocManager::install(\"oligo\")\n",
    "BiocManager::install(\"oligoData\")"
   ]
  },
  {
   "cell_type": "code",
   "execution_count": 1,
   "metadata": {
    "scrolled": false
   },
   "outputs": [
    {
     "name": "stderr",
     "output_type": "stream",
     "text": [
      "Loading required package: BiocGenerics\n",
      "\n",
      "Loading required package: parallel\n",
      "\n",
      "\n",
      "Attaching package: ‘BiocGenerics’\n",
      "\n",
      "\n",
      "The following objects are masked from ‘package:parallel’:\n",
      "\n",
      "    clusterApply, clusterApplyLB, clusterCall, clusterEvalQ,\n",
      "    clusterExport, clusterMap, parApply, parCapply, parLapply,\n",
      "    parLapplyLB, parRapply, parSapply, parSapplyLB\n",
      "\n",
      "\n",
      "The following objects are masked from ‘package:stats’:\n",
      "\n",
      "    IQR, mad, sd, var, xtabs\n",
      "\n",
      "\n",
      "The following objects are masked from ‘package:base’:\n",
      "\n",
      "    anyDuplicated, append, as.data.frame, basename, cbind, colnames,\n",
      "    dirname, do.call, duplicated, eval, evalq, Filter, Find, get, grep,\n",
      "    grepl, intersect, is.unsorted, lapply, Map, mapply, match, mget,\n",
      "    order, paste, pmax, pmax.int, pmin, pmin.int, Position, rank,\n",
      "    rbind, Reduce, rownames, sapply, setdiff, sort, table, tapply,\n",
      "    union, unique, unsplit, which, which.max, which.min\n",
      "\n",
      "\n",
      "Loading required package: oligoClasses\n",
      "\n",
      "Welcome to oligoClasses version 1.50.0\n",
      "\n",
      "Loading required package: Biobase\n",
      "\n",
      "Welcome to Bioconductor\n",
      "\n",
      "    Vignettes contain introductory material; view with\n",
      "    'browseVignettes()'. To cite Bioconductor, see\n",
      "    'citation(\"Biobase\")', and for packages 'citation(\"pkgname\")'.\n",
      "\n",
      "\n",
      "Loading required package: Biostrings\n",
      "\n",
      "Loading required package: S4Vectors\n",
      "\n",
      "Loading required package: stats4\n",
      "\n",
      "\n",
      "Attaching package: ‘S4Vectors’\n",
      "\n",
      "\n",
      "The following object is masked from ‘package:base’:\n",
      "\n",
      "    expand.grid\n",
      "\n",
      "\n",
      "Loading required package: IRanges\n",
      "\n",
      "Loading required package: XVector\n",
      "\n",
      "\n",
      "Attaching package: ‘Biostrings’\n",
      "\n",
      "\n",
      "The following object is masked from ‘package:base’:\n",
      "\n",
      "    strsplit\n",
      "\n",
      "\n",
      "No methods found in package ‘RSQLite’ for request: ‘dbListFields’ when loading ‘oligo’\n",
      "\n",
      "================================================================================\n",
      "\n",
      "Welcome to oligo version 1.52.0\n",
      "\n",
      "================================================================================\n",
      "\n"
     ]
    }
   ],
   "source": [
    "library(\"oligo\")\n",
    "library(\"oligoData\")\n",
    "data(affyExpressionFS)"
   ]
  },
  {
   "cell_type": "code",
   "execution_count": 4,
   "metadata": {},
   "outputs": [
    {
     "data": {
      "text/plain": [
       "ExpressionFeatureSet (storageMode: lockedEnvironment)\n",
       "assayData: 409600 features, 59 samples \n",
       "  element names: exprs \n",
       "protocolData: none\n",
       "phenoData\n",
       "  rowNames: 1521a99hpp_av06.CEL 1521b99hpp_av06.CEL ...\n",
       "    2353t99hpp_av08.CEL (59 total)\n",
       "  varLabels: exprs\n",
       "  varMetadata: labelDescription channel\n",
       "featureData: none\n",
       "experimentData: use 'experimentData(object)'\n",
       "Annotation: pd.hg.u95av2 "
      ]
     },
     "metadata": {},
     "output_type": "display_data"
    }
   ],
   "source": [
    "affyExpressionFS"
   ]
  },
  {
   "cell_type": "code",
   "execution_count": 5,
   "metadata": {},
   "outputs": [
    {
     "data": {
      "text/html": [
       "<style>\n",
       ".list-inline {list-style: none; margin:0; padding: 0}\n",
       ".list-inline>li {display: inline-block}\n",
       ".list-inline>li:not(:last-child)::after {content: \"\\00b7\"; padding: 0 .5ex}\n",
       "</style>\n",
       "<ol class=list-inline><li>'1521a99hpp_av06.CEL'</li><li>'1521b99hpp_av06.CEL'</li><li>'1521c99hpp_av06.CEL'</li><li>'1521d99hpp_av06.CEL'</li><li>'1521e99hpp_av06.CEL'</li><li>'1521f99hpp_av06.CEL'</li><li>'1521g99hpp_av06.CEL'</li><li>'1521h99hpp_av06.CEL'</li><li>'1521i99hpp_av06.CEL'</li><li>'1521j99hpp_av06.CEL'</li><li>'1521k99hpp_av06.CEL'</li><li>'1521l99hpp_av06r.CEL'</li><li>'1521m99hpp_av06.CEL'</li><li>'1521n99hpp_av06.CEL'</li><li>'1521o99hpp_av06.CEL'</li><li>'1521p99hpp_av06.CEL'</li><li>'1521q99hpp_av06.CEL'</li><li>'1521r99hpp_av06.CEL'</li><li>'1521s99hpp_av06.CEL'</li><li>'1521t99hpp_av06.CEL'</li><li>'1532a99hpp_av04.CEL'</li><li>'1532b99hpp_av04.CEL'</li><li>'1532c99hpp_av04.CEL'</li><li>'1532d99hpp_av04.CEL'</li><li>'1532e99hpp_av04.CEL'</li><li>'1532f99hpp_av04.CEL'</li><li>'1532g99hpp_av04.CEL'</li><li>'1532h99hpp_av04.CEL'</li><li>'1532i99hpp_av04.CEL'</li><li>'1532j99hpp_av04.CEL'</li><li>'1532k99hpp_av04.CEL'</li><li>'1532l99hpp_av04.CEL'</li><li>'1532m99hpp_av04.CEL'</li><li>'1532n99hpp_av04.CEL'</li><li>'1532o99hpp_av04.CEL'</li><li>'1532p99hpp_av04.CEL'</li><li>'1532q99hpp_av04.CEL'</li><li>'1532r99hpp_av04.CEL'</li><li>'1532s99hpp_av04.CEL'</li><li>'1532t99hpp_av04r.CEL'</li><li>'2353a99hpp_av08.CEL'</li><li>'2353b99hpp_av08r.CEL'</li><li>'2353d99hpp_av08.CEL'</li><li>'2353e99hpp_av08.CEL'</li><li>'2353f99hpp_av08.CEL'</li><li>'2353g99hpp_av08.CEL'</li><li>'2353h99hpp_av08.CEL'</li><li>'2353i99hpp_av08.CEL'</li><li>'2353j99hpp_av08.CEL'</li><li>'2353k99hpp_av08.CEL'</li><li>'2353l99hpp_av08.CEL'</li><li>'2353m99hpp_av08.CEL'</li><li>'2353n99hpp_av08.CEL'</li><li>'2353o99hpp_av08.CEL'</li><li>'2353p99hpp_av08.CEL'</li><li>'2353q99hpp_av08.CEL'</li><li>'2353r99hpp_av08.CEL'</li><li>'2353s99hpp_av08.CEL'</li><li>'2353t99hpp_av08.CEL'</li></ol>\n"
      ],
      "text/latex": [
       "\\begin{enumerate*}\n",
       "\\item '1521a99hpp\\_av06.CEL'\n",
       "\\item '1521b99hpp\\_av06.CEL'\n",
       "\\item '1521c99hpp\\_av06.CEL'\n",
       "\\item '1521d99hpp\\_av06.CEL'\n",
       "\\item '1521e99hpp\\_av06.CEL'\n",
       "\\item '1521f99hpp\\_av06.CEL'\n",
       "\\item '1521g99hpp\\_av06.CEL'\n",
       "\\item '1521h99hpp\\_av06.CEL'\n",
       "\\item '1521i99hpp\\_av06.CEL'\n",
       "\\item '1521j99hpp\\_av06.CEL'\n",
       "\\item '1521k99hpp\\_av06.CEL'\n",
       "\\item '1521l99hpp\\_av06r.CEL'\n",
       "\\item '1521m99hpp\\_av06.CEL'\n",
       "\\item '1521n99hpp\\_av06.CEL'\n",
       "\\item '1521o99hpp\\_av06.CEL'\n",
       "\\item '1521p99hpp\\_av06.CEL'\n",
       "\\item '1521q99hpp\\_av06.CEL'\n",
       "\\item '1521r99hpp\\_av06.CEL'\n",
       "\\item '1521s99hpp\\_av06.CEL'\n",
       "\\item '1521t99hpp\\_av06.CEL'\n",
       "\\item '1532a99hpp\\_av04.CEL'\n",
       "\\item '1532b99hpp\\_av04.CEL'\n",
       "\\item '1532c99hpp\\_av04.CEL'\n",
       "\\item '1532d99hpp\\_av04.CEL'\n",
       "\\item '1532e99hpp\\_av04.CEL'\n",
       "\\item '1532f99hpp\\_av04.CEL'\n",
       "\\item '1532g99hpp\\_av04.CEL'\n",
       "\\item '1532h99hpp\\_av04.CEL'\n",
       "\\item '1532i99hpp\\_av04.CEL'\n",
       "\\item '1532j99hpp\\_av04.CEL'\n",
       "\\item '1532k99hpp\\_av04.CEL'\n",
       "\\item '1532l99hpp\\_av04.CEL'\n",
       "\\item '1532m99hpp\\_av04.CEL'\n",
       "\\item '1532n99hpp\\_av04.CEL'\n",
       "\\item '1532o99hpp\\_av04.CEL'\n",
       "\\item '1532p99hpp\\_av04.CEL'\n",
       "\\item '1532q99hpp\\_av04.CEL'\n",
       "\\item '1532r99hpp\\_av04.CEL'\n",
       "\\item '1532s99hpp\\_av04.CEL'\n",
       "\\item '1532t99hpp\\_av04r.CEL'\n",
       "\\item '2353a99hpp\\_av08.CEL'\n",
       "\\item '2353b99hpp\\_av08r.CEL'\n",
       "\\item '2353d99hpp\\_av08.CEL'\n",
       "\\item '2353e99hpp\\_av08.CEL'\n",
       "\\item '2353f99hpp\\_av08.CEL'\n",
       "\\item '2353g99hpp\\_av08.CEL'\n",
       "\\item '2353h99hpp\\_av08.CEL'\n",
       "\\item '2353i99hpp\\_av08.CEL'\n",
       "\\item '2353j99hpp\\_av08.CEL'\n",
       "\\item '2353k99hpp\\_av08.CEL'\n",
       "\\item '2353l99hpp\\_av08.CEL'\n",
       "\\item '2353m99hpp\\_av08.CEL'\n",
       "\\item '2353n99hpp\\_av08.CEL'\n",
       "\\item '2353o99hpp\\_av08.CEL'\n",
       "\\item '2353p99hpp\\_av08.CEL'\n",
       "\\item '2353q99hpp\\_av08.CEL'\n",
       "\\item '2353r99hpp\\_av08.CEL'\n",
       "\\item '2353s99hpp\\_av08.CEL'\n",
       "\\item '2353t99hpp\\_av08.CEL'\n",
       "\\end{enumerate*}\n"
      ],
      "text/markdown": [
       "1. '1521a99hpp_av06.CEL'\n",
       "2. '1521b99hpp_av06.CEL'\n",
       "3. '1521c99hpp_av06.CEL'\n",
       "4. '1521d99hpp_av06.CEL'\n",
       "5. '1521e99hpp_av06.CEL'\n",
       "6. '1521f99hpp_av06.CEL'\n",
       "7. '1521g99hpp_av06.CEL'\n",
       "8. '1521h99hpp_av06.CEL'\n",
       "9. '1521i99hpp_av06.CEL'\n",
       "10. '1521j99hpp_av06.CEL'\n",
       "11. '1521k99hpp_av06.CEL'\n",
       "12. '1521l99hpp_av06r.CEL'\n",
       "13. '1521m99hpp_av06.CEL'\n",
       "14. '1521n99hpp_av06.CEL'\n",
       "15. '1521o99hpp_av06.CEL'\n",
       "16. '1521p99hpp_av06.CEL'\n",
       "17. '1521q99hpp_av06.CEL'\n",
       "18. '1521r99hpp_av06.CEL'\n",
       "19. '1521s99hpp_av06.CEL'\n",
       "20. '1521t99hpp_av06.CEL'\n",
       "21. '1532a99hpp_av04.CEL'\n",
       "22. '1532b99hpp_av04.CEL'\n",
       "23. '1532c99hpp_av04.CEL'\n",
       "24. '1532d99hpp_av04.CEL'\n",
       "25. '1532e99hpp_av04.CEL'\n",
       "26. '1532f99hpp_av04.CEL'\n",
       "27. '1532g99hpp_av04.CEL'\n",
       "28. '1532h99hpp_av04.CEL'\n",
       "29. '1532i99hpp_av04.CEL'\n",
       "30. '1532j99hpp_av04.CEL'\n",
       "31. '1532k99hpp_av04.CEL'\n",
       "32. '1532l99hpp_av04.CEL'\n",
       "33. '1532m99hpp_av04.CEL'\n",
       "34. '1532n99hpp_av04.CEL'\n",
       "35. '1532o99hpp_av04.CEL'\n",
       "36. '1532p99hpp_av04.CEL'\n",
       "37. '1532q99hpp_av04.CEL'\n",
       "38. '1532r99hpp_av04.CEL'\n",
       "39. '1532s99hpp_av04.CEL'\n",
       "40. '1532t99hpp_av04r.CEL'\n",
       "41. '2353a99hpp_av08.CEL'\n",
       "42. '2353b99hpp_av08r.CEL'\n",
       "43. '2353d99hpp_av08.CEL'\n",
       "44. '2353e99hpp_av08.CEL'\n",
       "45. '2353f99hpp_av08.CEL'\n",
       "46. '2353g99hpp_av08.CEL'\n",
       "47. '2353h99hpp_av08.CEL'\n",
       "48. '2353i99hpp_av08.CEL'\n",
       "49. '2353j99hpp_av08.CEL'\n",
       "50. '2353k99hpp_av08.CEL'\n",
       "51. '2353l99hpp_av08.CEL'\n",
       "52. '2353m99hpp_av08.CEL'\n",
       "53. '2353n99hpp_av08.CEL'\n",
       "54. '2353o99hpp_av08.CEL'\n",
       "55. '2353p99hpp_av08.CEL'\n",
       "56. '2353q99hpp_av08.CEL'\n",
       "57. '2353r99hpp_av08.CEL'\n",
       "58. '2353s99hpp_av08.CEL'\n",
       "59. '2353t99hpp_av08.CEL'\n",
       "\n",
       "\n"
      ],
      "text/plain": [
       " [1] \"1521a99hpp_av06.CEL\"  \"1521b99hpp_av06.CEL\"  \"1521c99hpp_av06.CEL\" \n",
       " [4] \"1521d99hpp_av06.CEL\"  \"1521e99hpp_av06.CEL\"  \"1521f99hpp_av06.CEL\" \n",
       " [7] \"1521g99hpp_av06.CEL\"  \"1521h99hpp_av06.CEL\"  \"1521i99hpp_av06.CEL\" \n",
       "[10] \"1521j99hpp_av06.CEL\"  \"1521k99hpp_av06.CEL\"  \"1521l99hpp_av06r.CEL\"\n",
       "[13] \"1521m99hpp_av06.CEL\"  \"1521n99hpp_av06.CEL\"  \"1521o99hpp_av06.CEL\" \n",
       "[16] \"1521p99hpp_av06.CEL\"  \"1521q99hpp_av06.CEL\"  \"1521r99hpp_av06.CEL\" \n",
       "[19] \"1521s99hpp_av06.CEL\"  \"1521t99hpp_av06.CEL\"  \"1532a99hpp_av04.CEL\" \n",
       "[22] \"1532b99hpp_av04.CEL\"  \"1532c99hpp_av04.CEL\"  \"1532d99hpp_av04.CEL\" \n",
       "[25] \"1532e99hpp_av04.CEL\"  \"1532f99hpp_av04.CEL\"  \"1532g99hpp_av04.CEL\" \n",
       "[28] \"1532h99hpp_av04.CEL\"  \"1532i99hpp_av04.CEL\"  \"1532j99hpp_av04.CEL\" \n",
       "[31] \"1532k99hpp_av04.CEL\"  \"1532l99hpp_av04.CEL\"  \"1532m99hpp_av04.CEL\" \n",
       "[34] \"1532n99hpp_av04.CEL\"  \"1532o99hpp_av04.CEL\"  \"1532p99hpp_av04.CEL\" \n",
       "[37] \"1532q99hpp_av04.CEL\"  \"1532r99hpp_av04.CEL\"  \"1532s99hpp_av04.CEL\" \n",
       "[40] \"1532t99hpp_av04r.CEL\" \"2353a99hpp_av08.CEL\"  \"2353b99hpp_av08r.CEL\"\n",
       "[43] \"2353d99hpp_av08.CEL\"  \"2353e99hpp_av08.CEL\"  \"2353f99hpp_av08.CEL\" \n",
       "[46] \"2353g99hpp_av08.CEL\"  \"2353h99hpp_av08.CEL\"  \"2353i99hpp_av08.CEL\" \n",
       "[49] \"2353j99hpp_av08.CEL\"  \"2353k99hpp_av08.CEL\"  \"2353l99hpp_av08.CEL\" \n",
       "[52] \"2353m99hpp_av08.CEL\"  \"2353n99hpp_av08.CEL\"  \"2353o99hpp_av08.CEL\" \n",
       "[55] \"2353p99hpp_av08.CEL\"  \"2353q99hpp_av08.CEL\"  \"2353r99hpp_av08.CEL\" \n",
       "[58] \"2353s99hpp_av08.CEL\"  \"2353t99hpp_av08.CEL\" "
      ]
     },
     "metadata": {},
     "output_type": "display_data"
    }
   ],
   "source": [
    "sns <- sampleNames(affyExpressionFS)\n",
    "sns"
   ]
  },
  {
   "cell_type": "code",
   "execution_count": 8,
   "metadata": {},
   "outputs": [
    {
     "ename": "ERROR",
     "evalue": "Error in eval(expr, envir, enclos): объект 'pwd' не найден\n",
     "output_type": "error",
     "traceback": [
      "Error in eval(expr, envir, enclos): объект 'pwd' не найден\nTraceback:\n"
     ]
    }
   ],
   "source": [
    "!pwd"
   ]
  },
  {
   "cell_type": "code",
   "execution_count": 9,
   "metadata": {},
   "outputs": [
    {
     "data": {
      "text/html": [
       "<style>\n",
       ".list-inline {list-style: none; margin:0; padding: 0}\n",
       ".list-inline>li {display: inline-block}\n",
       ".list-inline>li:not(:last-child)::after {content: \"\\00b7\"; padding: 0 .5ex}\n",
       "</style>\n",
       "<ol class=list-inline><li>'rma'</li><li>'mas'</li><li>'LESN'</li></ol>\n"
      ],
      "text/latex": [
       "\\begin{enumerate*}\n",
       "\\item 'rma'\n",
       "\\item 'mas'\n",
       "\\item 'LESN'\n",
       "\\end{enumerate*}\n"
      ],
      "text/markdown": [
       "1. 'rma'\n",
       "2. 'mas'\n",
       "3. 'LESN'\n",
       "\n",
       "\n"
      ],
      "text/plain": [
       "[1] \"rma\"  \"mas\"  \"LESN\""
      ]
     },
     "metadata": {},
     "output_type": "display_data"
    }
   ],
   "source": [
    "backgroundCorrectionMethods()"
   ]
  },
  {
   "cell_type": "code",
   "execution_count": null,
   "metadata": {},
   "outputs": [],
   "source": []
  }
 ],
 "metadata": {
  "kernelspec": {
   "display_name": "R",
   "language": "R",
   "name": "ir"
  },
  "language_info": {
   "codemirror_mode": "r",
   "file_extension": ".r",
   "mimetype": "text/x-r-source",
   "name": "R",
   "pygments_lexer": "r",
   "version": "4.0.2"
  }
 },
 "nbformat": 4,
 "nbformat_minor": 4
}
