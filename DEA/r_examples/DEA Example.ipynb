{
 "cells": [
  {
   "cell_type": "code",
   "execution_count": null,
   "metadata": {},
   "outputs": [
    {
     "name": "stderr",
     "output_type": "stream",
     "text": [
      "Bioconductor version 3.11 (BiocManager 1.30.10), R 4.0.2 (2020-06-22)\n",
      "\n",
      "Installing package(s) 'oligo'\n",
      "\n",
      "Updating HTML index of packages in '.Library'\n",
      "\n",
      "Making 'packages.html' ...\n",
      " done\n",
      "\n",
      "Old packages: 'bit', 'bit64', 'data.table', 'dplyr', 'ff', 'GOSemSim', 'httr',\n",
      "  'sys', 'tidyr'\n",
      "\n",
      "Bioconductor version 3.11 (BiocManager 1.30.10), R 4.0.2 (2020-06-22)\n",
      "\n",
      "Installing package(s) 'oligoData'\n",
      "\n"
     ]
    }
   ],
   "source": [
    "# Установка пакетов oligo, oligoData, limma, maqcExpression4plex, genefilter\n",
    "if (!requireNamespace(\"BiocManager\", quietly = TRUE))\n",
    "    install.packages(\"BiocManager\")\n",
    "\n",
    "BiocManager::install(\"oligo\")\n",
    "BiocManager::install(\"oligoData\")\n",
    "BiocManager::install(\"limma\")\n",
    "BiocManager::install(\"maqcExpression4plex\")\n",
    "BiocManager::install(\"genefilter\")"
   ]
  },
  {
   "cell_type": "code",
   "execution_count": null,
   "metadata": {},
   "outputs": [],
   "source": [
    "library(\"oligo\")\n",
    "library(\"oligoData\")\n",
    "library(\"limma\")\n",
    "library(\"maqcExpression4plex\")\n",
    "library(\"genefilter\")"
   ]
  },
  {
   "cell_type": "code",
   "execution_count": null,
   "metadata": {},
   "outputs": [],
   "source": [
    "extdata <- system.file(\"extdata\", package=\"maqcExpression4plex\")\n",
    "xys.files <- list.xysfiles(extdata, full.names=TRUE)\n",
    "basename(xys.files)"
   ]
  }
 ],
 "metadata": {
  "kernelspec": {
   "display_name": "R",
   "language": "R",
   "name": "ir"
  },
  "language_info": {
   "codemirror_mode": "r",
   "file_extension": ".r",
   "mimetype": "text/x-r-source",
   "name": "R",
   "pygments_lexer": "r",
   "version": "4.0.2"
  }
 },
 "nbformat": 4,
 "nbformat_minor": 4
}
