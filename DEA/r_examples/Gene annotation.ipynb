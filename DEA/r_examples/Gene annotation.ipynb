{
 "cells": [
  {
   "cell_type": "code",
   "execution_count": 6,
   "metadata": {},
   "outputs": [
    {
     "ename": "ERROR",
     "evalue": "Error in parse(text = x, srcfile = src): <text>:9:13: неожиданный '('\n8: BiocManager::install(\"oligoData\")\n9: BioManager::(\n               ^\n",
     "output_type": "error",
     "traceback": [
      "Error in parse(text = x, srcfile = src): <text>:9:13: неожиданный '('\n8: BiocManager::install(\"oligoData\")\n9: BioManager::(\n               ^\nTraceback:\n"
     ]
    }
   ],
   "source": [
    "# Установка пакета org.Hs.eg.db\n",
    "if (!requireNamespace(\"BiocManager\", quietly = TRUE))\n",
    "    install.packages(\"BiocManager\")\n",
    "\n",
    "BioManager::install(\"org.Hs.eg.db\")"
   ]
  },
  {
   "cell_type": "code",
   "execution_count": 23,
   "metadata": {},
   "outputs": [],
   "source": [
    "# Подключаем библиотеки\n",
    "library(\"org.Hs.eg.db\")"
   ]
  },
  {
   "cell_type": "code",
   "execution_count": 24,
   "metadata": {},
   "outputs": [
    {
     "data": {
      "text/html": [
       "<style>\n",
       ".list-inline {list-style: none; margin:0; padding: 0}\n",
       ".list-inline>li {display: inline-block}\n",
       ".list-inline>li:not(:last-child)::after {content: \"\\00b7\"; padding: 0 .5ex}\n",
       "</style>\n",
       "<ol class=list-inline><li>'ACCNUM'</li><li>'ALIAS'</li><li>'ENSEMBL'</li><li>'ENSEMBLPROT'</li><li>'ENSEMBLTRANS'</li><li>'ENTREZID'</li><li>'ENZYME'</li><li>'EVIDENCE'</li><li>'EVIDENCEALL'</li><li>'GENENAME'</li><li>'GO'</li><li>'GOALL'</li><li>'IPI'</li><li>'MAP'</li><li>'OMIM'</li><li>'ONTOLOGY'</li><li>'ONTOLOGYALL'</li><li>'PATH'</li><li>'PFAM'</li><li>'PMID'</li><li>'PROSITE'</li><li>'REFSEQ'</li><li>'SYMBOL'</li><li>'UCSCKG'</li><li>'UNIGENE'</li><li>'UNIPROT'</li></ol>\n"
      ],
      "text/latex": [
       "\\begin{enumerate*}\n",
       "\\item 'ACCNUM'\n",
       "\\item 'ALIAS'\n",
       "\\item 'ENSEMBL'\n",
       "\\item 'ENSEMBLPROT'\n",
       "\\item 'ENSEMBLTRANS'\n",
       "\\item 'ENTREZID'\n",
       "\\item 'ENZYME'\n",
       "\\item 'EVIDENCE'\n",
       "\\item 'EVIDENCEALL'\n",
       "\\item 'GENENAME'\n",
       "\\item 'GO'\n",
       "\\item 'GOALL'\n",
       "\\item 'IPI'\n",
       "\\item 'MAP'\n",
       "\\item 'OMIM'\n",
       "\\item 'ONTOLOGY'\n",
       "\\item 'ONTOLOGYALL'\n",
       "\\item 'PATH'\n",
       "\\item 'PFAM'\n",
       "\\item 'PMID'\n",
       "\\item 'PROSITE'\n",
       "\\item 'REFSEQ'\n",
       "\\item 'SYMBOL'\n",
       "\\item 'UCSCKG'\n",
       "\\item 'UNIGENE'\n",
       "\\item 'UNIPROT'\n",
       "\\end{enumerate*}\n"
      ],
      "text/markdown": [
       "1. 'ACCNUM'\n",
       "2. 'ALIAS'\n",
       "3. 'ENSEMBL'\n",
       "4. 'ENSEMBLPROT'\n",
       "5. 'ENSEMBLTRANS'\n",
       "6. 'ENTREZID'\n",
       "7. 'ENZYME'\n",
       "8. 'EVIDENCE'\n",
       "9. 'EVIDENCEALL'\n",
       "10. 'GENENAME'\n",
       "11. 'GO'\n",
       "12. 'GOALL'\n",
       "13. 'IPI'\n",
       "14. 'MAP'\n",
       "15. 'OMIM'\n",
       "16. 'ONTOLOGY'\n",
       "17. 'ONTOLOGYALL'\n",
       "18. 'PATH'\n",
       "19. 'PFAM'\n",
       "20. 'PMID'\n",
       "21. 'PROSITE'\n",
       "22. 'REFSEQ'\n",
       "23. 'SYMBOL'\n",
       "24. 'UCSCKG'\n",
       "25. 'UNIGENE'\n",
       "26. 'UNIPROT'\n",
       "\n",
       "\n"
      ],
      "text/plain": [
       " [1] \"ACCNUM\"       \"ALIAS\"        \"ENSEMBL\"      \"ENSEMBLPROT\"  \"ENSEMBLTRANS\"\n",
       " [6] \"ENTREZID\"     \"ENZYME\"       \"EVIDENCE\"     \"EVIDENCEALL\"  \"GENENAME\"    \n",
       "[11] \"GO\"           \"GOALL\"        \"IPI\"          \"MAP\"          \"OMIM\"        \n",
       "[16] \"ONTOLOGY\"     \"ONTOLOGYALL\"  \"PATH\"         \"PFAM\"         \"PMID\"        \n",
       "[21] \"PROSITE\"      \"REFSEQ\"       \"SYMBOL\"       \"UCSCKG\"       \"UNIGENE\"     \n",
       "[26] \"UNIPROT\"     "
      ]
     },
     "metadata": {},
     "output_type": "display_data"
    }
   ],
   "source": [
    "# Выводим колонки базы данных org.Hs.eg.db\n",
    "# В ней каждая колонка означает id гена в какой-либо другой базе данных\n",
    "# Например, Ensembl, Uniprot, Refseq\n",
    "# Эти базы даных могут иметь разные назначения, то есть не все базы данных про ген\n",
    "# Но самое главное, что какждый элемент в этих базах данных имеет id\n",
    "# Тем самым с помощью org.Hs.eg.db можно сопоставлять id из разных баз\n",
    "columns(org.Hs.eg.db)"
   ]
  },
  {
   "cell_type": "code",
   "execution_count": 25,
   "metadata": {},
   "outputs": [
    {
     "name": "stderr",
     "output_type": "stream",
     "text": [
      "'select()' returned 1:1 mapping between keys and columns\n",
      "\n"
     ]
    },
    {
     "data": {
      "text/html": [
       "<table>\n",
       "<caption>A data.frame: 2 × 2</caption>\n",
       "<thead>\n",
       "\t<tr><th scope=col>ENTREZID</th><th scope=col>SYMBOL</th></tr>\n",
       "\t<tr><th scope=col>&lt;chr&gt;</th><th scope=col>&lt;chr&gt;</th></tr>\n",
       "</thead>\n",
       "<tbody>\n",
       "\t<tr><td>673</td><td>BRAF </td></tr>\n",
       "\t<tr><td>837</td><td>CASP4</td></tr>\n",
       "</tbody>\n",
       "</table>\n"
      ],
      "text/latex": [
       "A data.frame: 2 × 2\n",
       "\\begin{tabular}{ll}\n",
       " ENTREZID & SYMBOL\\\\\n",
       " <chr> & <chr>\\\\\n",
       "\\hline\n",
       "\t 673 & BRAF \\\\\n",
       "\t 837 & CASP4\\\\\n",
       "\\end{tabular}\n"
      ],
      "text/markdown": [
       "\n",
       "A data.frame: 2 × 2\n",
       "\n",
       "| ENTREZID &lt;chr&gt; | SYMBOL &lt;chr&gt; |\n",
       "|---|---|\n",
       "| 673 | BRAF  |\n",
       "| 837 | CASP4 |\n",
       "\n"
      ],
      "text/plain": [
       "  ENTREZID SYMBOL\n",
       "1 673      BRAF  \n",
       "2 837      CASP4 "
      ]
     },
     "metadata": {},
     "output_type": "display_data"
    }
   ],
   "source": [
    "# Пример данных\n",
    "entrez <- c(\"673\", \"837\")\n",
    "select(org.Hs.eg.db, keys=entrez,\n",
    "  keytype=\"ENTREZID\",\n",
    "  columns=c(\"SYMBOL\"))"
   ]
  },
  {
   "cell_type": "code",
   "execution_count": null,
   "metadata": {},
   "outputs": [],
   "source": []
  }
 ],
 "metadata": {
  "kernelspec": {
   "display_name": "R",
   "language": "R",
   "name": "ir"
  },
  "language_info": {
   "codemirror_mode": "r",
   "file_extension": ".r",
   "mimetype": "text/x-r-source",
   "name": "R",
   "pygments_lexer": "r",
   "version": "4.0.2"
  }
 },
 "nbformat": 4,
 "nbformat_minor": 4
}
