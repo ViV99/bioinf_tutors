{
 "cells": [
  {
   "cell_type": "markdown",
   "metadata": {},
   "source": [
    "# Построение филогенетических деревьев на Python \n",
    "Для построения деревьев мы будем использовать библиотеку ete3."
   ]
  },
  {
   "cell_type": "code",
   "execution_count": 1,
   "metadata": {},
   "outputs": [
    {
     "name": "stdout",
     "output_type": "stream",
     "text": [
      "Requirement already satisfied: ete3 in c:\\users\\iliya\\anaconda3\\lib\\site-packages (3.1.1)\n"
     ]
    }
   ],
   "source": [
    "# Установка\n",
    "!pip install ete3"
   ]
  },
  {
   "cell_type": "markdown",
   "metadata": {},
   "source": [
    "## Основы ete3"
   ]
  },
  {
   "cell_type": "code",
   "execution_count": 2,
   "metadata": {},
   "outputs": [],
   "source": [
    "from ete3 import Tree"
   ]
  },
  {
   "cell_type": "code",
   "execution_count": 3,
   "metadata": {},
   "outputs": [],
   "source": [
    "# Загружает структуру дерева из строки. Возвращает переменную ’t’ - корневой узел дерева.\n",
    "t = Tree(\"(A:1,(B:1,(E:1,D:1):0.5):0.5);\" )\n",
    "\n",
    "# Загружает структуру дерева из newick файла.\n",
    "t = Tree(\"genes_tree.nh\")\n",
    "\n",
    "# Вы также можете указать формат newick. Например, для именованных внутренних узлов мы будем использовать format 1.\n",
    "t = Tree(\"(A:1,(B:1,(E:1,D:1)Internal_1:0.5)Internal_2:0.5)Root;\", format=1)"
   ]
  },
  {
   "cell_type": "code",
   "execution_count": 4,
   "metadata": {},
   "outputs": [
    {
     "name": "stdout",
     "output_type": "stream",
     "text": [
      "(A:1,(B:1,(E:1,D:1)1:0.5)1:0.5);\n",
      "(A:1,(B:1,(E:1,D:1)Internal_1:0.5)Internal_2:0.5);\n"
     ]
    }
   ],
   "source": [
    "# Печатает newick используя стандартный формат\n",
    "print(t.write())\n",
    "\n",
    "# Чтобы печатать имена внутренних узлов, вам нужно поменять формат (format=1):\n",
    "print(t.write(format=1))\n",
    "\n",
    "# Также можно записывать в файл\n",
    "t.write(format=1, outfile=\"new_tree.nw\")"
   ]
  },
  {
   "cell_type": "code",
   "execution_count": 5,
   "metadata": {},
   "outputs": [
    {
     "data": {
      "text/plain": [
       "[Tree node 'A' (-0x7fffffe1ae341f58),\n",
       " Tree node 'B' (-0x7fffffe1ae341fdc),\n",
       " Tree node 'E' (-0x7fffffe1ae341f54),\n",
       " Tree node 'D' (-0x7fffffe1ae336bb8)]"
      ]
     },
     "execution_count": 5,
     "metadata": {},
     "output_type": "execute_result"
    }
   ],
   "source": [
    "# Лист, состоящий из детей (тип - ete3.coretype.tree.TreeNode)\n",
    "t.children\n",
    "\n",
    "# Лист, состоящий из листов (узлов без детей, тип - ete3.coretype.tree.TreeNode)\n",
    "t.get_leaves()"
   ]
  },
  {
   "cell_type": "code",
   "execution_count": 6,
   "metadata": {},
   "outputs": [
    {
     "name": "stdout",
     "output_type": "stream",
     "text": [
      "\n",
      "   /-A\n",
      "--|\n",
      "  |   /-B\n",
      "   \\-|\n",
      "     |   /-E\n",
      "      \\-|\n",
      "         \\-D\n",
      "\n",
      "   /-A\n",
      "  |\n",
      "--|--B\n",
      "  |\n",
      "  |   /-E\n",
      "   \\-|\n",
      "      \\-D\n"
     ]
    }
   ],
   "source": [
    "t = Tree(\"(A:1,(B:1,(E:1,D:1)Internal_1:0.5)Internal_2:0.5)Root;\", format=1)\n",
    "print(t)\n",
    "\n",
    "t.children[1].delete()\n",
    "print(t)"
   ]
  },
  {
   "cell_type": "code",
   "execution_count": 7,
   "metadata": {},
   "outputs": [
    {
     "name": "stdout",
     "output_type": "stream",
     "text": [
      "\n",
      "   /-A\n",
      "--|\n",
      "  |   /-B\n",
      "   \\-|\n",
      "     |   /-E\n",
      "      \\-|\n",
      "         \\-D\n",
      "\n",
      "   /-A\n",
      "  |\n",
      "  |   /-B\n",
      "  |--|\n",
      "--|  |   /-E\n",
      "  |   \\-|\n",
      "  |      \\-D\n",
      "  |\n",
      "   \\-K\n",
      "\n",
      "   /-A\n",
      "  |\n",
      "  |      /-M\n",
      "  |   /-|\n",
      "  |  |   \\-N\n",
      "--|--|\n",
      "  |  |   /-E\n",
      "  |   \\-|\n",
      "  |      \\-D\n",
      "  |\n",
      "   \\-K\n"
     ]
    }
   ],
   "source": [
    "t = Tree(\"(A:1,(B:1,(E:1,D:1)Internal_1:0.5)Internal_2:0.5)Root;\", format=1)\n",
    "print(t)\n",
    "\n",
    "t.children[1].add_sister(name=\"K\")\n",
    "print(t)\n",
    "\n",
    "\n",
    "node = t.children[1].children[0]\n",
    "\n",
    "# Добавление ребенка к текущему узлу\n",
    "node.add_child(name=\"M\")\n",
    "node.add_child(name=\"N\")\n",
    "print(t)"
   ]
  },
  {
   "cell_type": "code",
   "execution_count": 8,
   "metadata": {},
   "outputs": [],
   "source": [
    "# Полный список методов \n",
    "#help(t)"
   ]
  },
  {
   "cell_type": "markdown",
   "metadata": {},
   "source": [
    "## Построение филогенетического дерева"
   ]
  },
  {
   "cell_type": "code",
   "execution_count": 9,
   "metadata": {},
   "outputs": [
    {
     "name": "stdout",
     "output_type": "stream",
     "text": [
      "\n",
      "         /-seqA\n",
      "      /-|\n",
      "   /-|   \\-seqB\n",
      "  |  |\n",
      "--|   \\-seqC\n",
      "  |\n",
      "   \\-seqD\n"
     ]
    }
   ],
   "source": [
    "from ete3 import PhyloTree\n",
    "fasta_txt = \"\"\"\n",
    ">seqA\n",
    "MAEIPDETIQQFMALT---HNIAVQYLSEFGDLNEALNSYYASQTDDIKDRREEAH\n",
    ">seqB\n",
    "MAEIPDATIQQFMALTNVSHNIAVQY--EFGDLNEALNSYYAYQTDDQKDRREEAH\n",
    ">seqC\n",
    "MAEIPDATIQ---ALTNVSHNIAVQYLSEFGDLNEALNSYYASQTDDQPDRREEAH\n",
    ">seqD\n",
    "MAEAPDETIQQFMALTNVSHNIAVQYLSEFGDLNEAL--------------REEAH\n",
    "\"\"\"\n",
    "\n",
    "# Загружаем дерево и связыеваем листья с последовательностями\n",
    "t = PhyloTree(\"(((seqA,seqB),seqC),seqD);\", alignment=fasta_txt, alg_format=\"fasta\")\n",
    "\n",
    "print(t)"
   ]
  },
  {
   "cell_type": "markdown",
   "metadata": {},
   "source": [
    "## Визуализация филогенетического дерева"
   ]
  },
  {
   "cell_type": "code",
   "execution_count": 10,
   "metadata": {},
   "outputs": [
    {
     "name": "stderr",
     "output_type": "stream",
     "text": [
      "Warnning: [5] terminal nodes could not be found in the alignment.\n"
     ]
    }
   ],
   "source": [
    "from ete3 import PhyloTree, TreeStyle\n",
    "\n",
    "alg = \"\"\"\n",
    " >Dme_001\n",
    " MAEIPDETIQQFMALT---HNIAVQYLSEFGDLNEAL--YYASQTDDIKDRREEAH\n",
    " >Dme_002\n",
    " MAEIPDATIQQFMALTNVSHNIAVQY--EFGDLNEALNSYYAYQTDDQKDRREEAH\n",
    " >Cfa_001\n",
    " MAEIPDATIQ---ALTNVSHNIAVQYLSEFGDLNEALNSYYASQTDDQPDRREEAH\n",
    " >Mms_001\n",
    " MAEAPDETIQQFMALTNVSHNIAVQYLSEFGDLNEAL--------------REEAH\n",
    " >Hsa_001\n",
    " MAEIPDETIQQFMALT---HNIAVQYLSEFGDLNEALNSYYASQTDDIKDRREEAH\n",
    " >Ptr_002\n",
    " MAEIPDATIQ-FMALTNVSHNIAVQY--EFGDLNEALNSY--YQTDDQKDRREEAH\n",
    " >Mmu_002\n",
    " MAEIPDATIQ---ALTNVSHNIAVQYLSEFGDLNEALNSYYASQTDDQPDRREEAH\n",
    " >Hsa_002\n",
    " MAEAPDETIQQFM-LTNVSHNIAVQYLSEFGDLNEAL--------------REEAH\n",
    " >Mmu_001\n",
    " MAEIPDETIQQFMALT---HNIAVQYLSEFGDLNEALNSYYASQTDDIKDRREEAH\n",
    " >Ptr_001\n",
    " MAEIPDATIQ-FMALTNVSHNIAVQY--EFGDLNEALNSY--YQTDDQKDRREEAH\n",
    "\"\"\"\n",
    "\n",
    "def get_example_tree():\n",
    "\n",
    "    # Выполняет анализ согласования дерева\n",
    "    gene_tree_nw = '((Dme_001,Dme_002),(((Cfa_001,Mms_001),((Hsa_001,Ptr_001),Mmu_001)),(Ptr_002,(Hsa_002,Mmu_002))));'\n",
    "    species_tree_nw = \"((((Hsa, Ptr), Mmu), (Mms, Cfa)), Dme);\"\n",
    "    genetree = PhyloTree(gene_tree_nw)\n",
    "    sptree = PhyloTree(species_tree_nw)\n",
    "    recon_tree, events = genetree.reconcile(sptree)\n",
    "    recon_tree.link_to_alignment(alg)\n",
    "    return recon_tree, TreeStyle()\n",
    "\n",
    "if __name__ == \"__main__\":\n",
    "    # Визуализируйте согласованное дерево\n",
    "    t, ts = get_example_tree()\n",
    "    t.show(tree_style=ts)\n",
    "    t.render(\"phylotree.png\", w=750)"
   ]
  }
 ],
 "metadata": {
  "kernelspec": {
   "display_name": "Python 3",
   "language": "python",
   "name": "python3"
  },
  "language_info": {
   "codemirror_mode": {
    "name": "ipython",
    "version": 3
   },
   "file_extension": ".py",
   "mimetype": "text/x-python",
   "name": "python",
   "nbconvert_exporter": "python",
   "pygments_lexer": "ipython3",
   "version": "3.7.6"
  }
 },
 "nbformat": 4,
 "nbformat_minor": 4
}
